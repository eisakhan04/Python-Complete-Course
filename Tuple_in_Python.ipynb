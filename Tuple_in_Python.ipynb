{
 "cells": [
  {
   "attachments": {},
   "cell_type": "markdown",
   "metadata": {},
   "source": [
    "# Topic Tuple in Python \n",
    "1. Order datatype \n",
    "2. ( ) \n",
    "3. Inmutable \n",
    "the tuple work by **index value** we can access the value of tuple by index\n",
    "4. we cannot **update** , **delete**, and **we cannot change the value** of tuple "
   ]
  },
  {
   "cell_type": "code",
   "execution_count": 3,
   "metadata": {},
   "outputs": [
    {
     "name": "stdout",
     "output_type": "stream",
     "text": [
      "(20, 30, 40, 50)\n",
      "50\n",
      "<class 'tuple'>\n",
      "<class 'str'>\n"
     ]
    }
   ],
   "source": [
    "t=(20 ,30 ,40, 50)\n",
    "print(t)\n",
    "a=t[3]\n",
    "print(a)\n",
    "print(type(t))\n",
    "t=('python')\n",
    "print(type(t))\n"
   ]
  },
  {
   "cell_type": "code",
   "execution_count": 8,
   "metadata": {},
   "outputs": [
    {
     "name": "stdout",
     "output_type": "stream",
     "text": [
      "0\n",
      "20\n",
      "1\n",
      "3\n",
      "2\n",
      "50\n",
      "3\n",
      "40\n"
     ]
    }
   ],
   "source": [
    "t=(20,3,50,40)\n",
    "#   0 1  2  3\n",
    "l=len(t)\n",
    "#print(l)\n",
    "for a in range(l):\n",
    "    print(a)\n",
    "    print(t[a])"
   ]
  },
  {
   "cell_type": "code",
   "execution_count": 11,
   "metadata": {},
   "outputs": [
    {
     "name": "stdout",
     "output_type": "stream",
     "text": [
      "20\n",
      "3\n",
      "50\n",
      "40\n"
     ]
    }
   ],
   "source": [
    "t=(20,3,50,40)\n",
    "#   0 1  2  3\n",
    "#l=len(t)\n",
    "#print(l)\n",
    "for a in t:\n",
    "    print(a)\n",
    "   # print(t[a])"
   ]
  },
  {
   "attachments": {},
   "cell_type": "markdown",
   "metadata": {},
   "source": [
    "# Touple use in function \n",
    "* min \n",
    "* mix \n",
    "* count \n",
    "* index\n",
    "* sum"
   ]
  },
  {
   "cell_type": "code",
   "execution_count": 17,
   "metadata": {},
   "outputs": [
    {
     "name": "stdout",
     "output_type": "stream",
     "text": [
      "6\n"
     ]
    }
   ],
   "source": [
    "# min function use minimum value show\n",
    "t =(20,30,40,6,20,50)\n",
    "m= min(t) \n",
    "print(m)"
   ]
  },
  {
   "cell_type": "code",
   "execution_count": 18,
   "metadata": {},
   "outputs": [
    {
     "name": "stdout",
     "output_type": "stream",
     "text": [
      "50\n"
     ]
    }
   ],
   "source": [
    "# max function use in maximum value show \n",
    "mix = max(t)\n",
    "print(mix)"
   ]
  },
  {
   "cell_type": "code",
   "execution_count": 19,
   "metadata": {},
   "outputs": [
    {
     "name": "stdout",
     "output_type": "stream",
     "text": [
      "2\n"
     ]
    }
   ],
   "source": [
    "# count function any value in tuple a one element repeat in tuple\n",
    "c= t.count(20)\n",
    "print(c)"
   ]
  },
  {
   "cell_type": "code",
   "execution_count": 23,
   "metadata": {},
   "outputs": [
    {
     "name": "stdout",
     "output_type": "stream",
     "text": [
      "2\n"
     ]
    }
   ],
   "source": [
    "# index function show in tuple in index value \n",
    "ind=t.index(40)\n",
    "print(ind)"
   ]
  },
  {
   "cell_type": "code",
   "execution_count": 26,
   "metadata": {},
   "outputs": [
    {
     "name": "stdout",
     "output_type": "stream",
     "text": [
      "166\n",
      "176\n"
     ]
    }
   ],
   "source": [
    "# sum function use tuple value sum that sum work only integer and float value\n",
    "S=sum(t)\n",
    "print(S)\n",
    "s=sum(t , 10)\n",
    "print(s)"
   ]
  }
 ],
 "metadata": {
  "kernelspec": {
   "display_name": "ml_env",
   "language": "python",
   "name": "python3"
  },
  "language_info": {
   "codemirror_mode": {
    "name": "ipython",
    "version": 3
   },
   "file_extension": ".py",
   "mimetype": "text/x-python",
   "name": "python",
   "nbconvert_exporter": "python",
   "pygments_lexer": "ipython3",
   "version": "3.11.3"
  },
  "orig_nbformat": 4
 },
 "nbformat": 4,
 "nbformat_minor": 2
}
