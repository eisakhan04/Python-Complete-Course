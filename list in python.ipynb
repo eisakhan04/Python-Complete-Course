{
 "cells": [
  {
   "attachments": {},
   "cell_type": "markdown",
   "metadata": {},
   "source": [
    "# List in Python \n",
    "* List is one of the Sequence Data structure \n",
    "* list are collection of items (string, integers, or even other lists )\n",
    "* list are enclosed in []\n",
    "* each item in the list has an assigned index value.\n",
    "* each item in the list is separate by comma\n",
    "* list are mutable , which means they can be changed."
   ]
  },
  {
   "attachments": {},
   "cell_type": "markdown",
   "metadata": {},
   "source": [
    "**List Indexing and Spliting** The indexing is processed in the same way as it happens with the strings. The elenents of the list can be accessed by the slice operator [].\n",
    "                   **List=[0, 1, 2, 3, 4, 5 ]**"
   ]
  },
  {
   "attachments": {},
   "cell_type": "markdown",
   "metadata": {},
   "source": [
    "# List Creation"
   ]
  },
  {
   "cell_type": "code",
   "execution_count": 2,
   "metadata": {},
   "outputs": [
    {
     "name": "stdout",
     "output_type": "stream",
     "text": [
      "[]\n",
      "['one ', 'two', 'three', 'four', 'five']\n",
      "[1, 2, 3, 4, 5]\n",
      "[[1, 2], [3, 4]]\n",
      "[1, 'eisa', 24, 1, 13]\n"
     ]
    }
   ],
   "source": [
    "lstemp= []\n",
    "lst=['one ','two','three','four','five'] # list of string\n",
    "lst2=[1,2,3,4,5] # list of integers\n",
    "lst3= [[1,2] ,[3,4]] # list of list\n",
    "lst4= [1 ,'eisa' , 24 ,1 ,13] # list of different datatypes \n",
    "print(lstemp)\n",
    "print(lst)\n",
    "print(lst2)\n",
    "print(lst3)\n",
    "print(lst4)"
   ]
  },
  {
   "cell_type": "code",
   "execution_count": 10,
   "metadata": {},
   "outputs": [
    {
     "name": "stdout",
     "output_type": "stream",
     "text": [
      "['one ', 'two', 'three', 'four', 'five']\n",
      "four\n"
     ]
    }
   ],
   "source": [
    "print(lst)\n",
    "print(lst[3])"
   ]
  },
  {
   "cell_type": "code",
   "execution_count": 11,
   "metadata": {},
   "outputs": [
    {
     "name": "stdout",
     "output_type": "stream",
     "text": [
      "one \n",
      "two\n",
      "three\n",
      "four\n",
      "five\n"
     ]
    }
   ],
   "source": [
    "for ls in lst:\n",
    "    print(ls)"
   ]
  },
  {
   "cell_type": "code",
   "execution_count": 12,
   "metadata": {},
   "outputs": [
    {
     "name": "stdout",
     "output_type": "stream",
     "text": [
      "5\n"
     ]
    }
   ],
   "source": [
    "print(len(lst))"
   ]
  },
  {
   "cell_type": "code",
   "execution_count": 16,
   "metadata": {},
   "outputs": [
    {
     "name": "stdout",
     "output_type": "stream",
     "text": [
      "one \n",
      "0\n",
      "two\n",
      "1\n",
      "three\n",
      "2\n",
      "four\n",
      "3\n",
      "five\n",
      "4\n"
     ]
    }
   ],
   "source": [
    "# find lenght of lis is defined as len()\n",
    "\n",
    "for ls in range(len(lst)):\n",
    "    print(lst[ls])\n",
    "    print(ls)"
   ]
  },
  {
   "cell_type": "code",
   "execution_count": 17,
   "metadata": {},
   "outputs": [
    {
     "name": "stdout",
     "output_type": "stream",
     "text": [
      "[1, 2, 3, 4, 5]\n"
     ]
    }
   ],
   "source": [
    "print(lst2)"
   ]
  },
  {
   "attachments": {},
   "cell_type": "markdown",
   "metadata": {},
   "source": [
    "# List is Mutable \n",
    "* that change the list value"
   ]
  },
  {
   "cell_type": "code",
   "execution_count": 23,
   "metadata": {},
   "outputs": [
    {
     "name": "stdout",
     "output_type": "stream",
     "text": [
      "[10, 2, 3, 10, 10]\n"
     ]
    }
   ],
   "source": [
    "lst2[4]=10\n",
    "print(lst2)"
   ]
  },
  {
   "cell_type": "code",
   "execution_count": 24,
   "metadata": {},
   "outputs": [
    {
     "data": {
      "text/plain": [
       "[10, 2, 3, 10, 10]"
      ]
     },
     "execution_count": 24,
     "metadata": {},
     "output_type": "execute_result"
    }
   ],
   "source": [
    "lst2"
   ]
  },
  {
   "cell_type": "code",
   "execution_count": 25,
   "metadata": {},
   "outputs": [
    {
     "data": {
      "text/plain": [
       "[10, 2, 3, 10, 10]"
      ]
     },
     "execution_count": 25,
     "metadata": {},
     "output_type": "execute_result"
    }
   ],
   "source": [
    "lst2[:]"
   ]
  },
  {
   "cell_type": "code",
   "execution_count": 26,
   "metadata": {},
   "outputs": [
    {
     "data": {
      "text/plain": [
       "[2, 3, 10, 10]"
      ]
     },
     "execution_count": 26,
     "metadata": {},
     "output_type": "execute_result"
    }
   ],
   "source": [
    "lst2[1:]"
   ]
  },
  {
   "cell_type": "code",
   "execution_count": 28,
   "metadata": {},
   "outputs": [
    {
     "data": {
      "text/plain": [
       "[10, 2, 3]"
      ]
     },
     "execution_count": 28,
     "metadata": {},
     "output_type": "execute_result"
    }
   ],
   "source": [
    "lst2[0:3]"
   ]
  },
  {
   "attachments": {},
   "cell_type": "markdown",
   "metadata": {},
   "source": [
    "# List slicing concept \n",
    "* **list_variable (start:stop:step)**\n",
    "* the start denotes the starting index position of the list \n",
    "* the stop denotes the last index position of the list.\n",
    "* the step is used to skip the element within a start:stop\n"
   ]
  },
  {
   "cell_type": "code",
   "execution_count": 35,
   "metadata": {},
   "outputs": [
    {
     "name": "stdout",
     "output_type": "stream",
     "text": [
      "1\n",
      "2\n",
      "3\n",
      "4\n",
      "[1, 2, 3, 4, 5, 6]\n",
      "[1, 2, 3, 4, 5, 6, 7]\n",
      "[3, 4, 5]\n",
      "[2, 5]\n"
     ]
    }
   ],
   "source": [
    "list=[1,2,3,4,5,6,7]\n",
    "print(list[0])\n",
    "print(list[1])\n",
    "print(list[2])\n",
    "print(list[3])\n",
    "# slicing the elements\n",
    "print(list[0:6])\n",
    "# by default , the index value is 0 so its starts from the 0th element and go for index -1.\n",
    "print(list[:])\n",
    "print(list[2:5])\n",
    "print(list[1:6:3])"
   ]
  },
  {
   "attachments": {},
   "cell_type": "markdown",
   "metadata": {},
   "source": [
    "# List Append "
   ]
  },
  {
   "cell_type": "code",
   "execution_count": 3,
   "metadata": {},
   "outputs": [
    {
     "name": "stdout",
     "output_type": "stream",
     "text": [
      "['one ', 'two', 'three', 'four', 'five']\n"
     ]
    }
   ],
   "source": [
    "lst =['one ' , 'two','three', 'four' ]\n",
    "lst.append('five') # append will add the item at the end\n",
    "print(lst)"
   ]
  },
  {
   "attachments": {},
   "cell_type": "markdown",
   "metadata": {},
   "source": [
    "# List Insert "
   ]
  },
  {
   "cell_type": "code",
   "execution_count": 5,
   "metadata": {},
   "outputs": [
    {
     "name": "stdout",
     "output_type": "stream",
     "text": [
      "['one ', 'two', 'four', 'three']\n"
     ]
    }
   ],
   "source": [
    "# syntax: lst.IsADirectoryError(x ,y)\n",
    "lst =['one ','two','four']\n",
    "lst.insert(2,\"three\") \n",
    "print(lst)"
   ]
  },
  {
   "attachments": {},
   "cell_type": "markdown",
   "metadata": {},
   "source": [
    "# List Remove "
   ]
  },
  {
   "cell_type": "code",
   "execution_count": 7,
   "metadata": {},
   "outputs": [
    {
     "name": "stdout",
     "output_type": "stream",
     "text": [
      "['one ', 'three', 'four', 'two']\n"
     ]
    }
   ],
   "source": [
    "#syntax: lst.remove(x)\n",
    "lst =['one ','two','three','four', 'two']\n",
    "lst.remove('two') #it will first occurence of 'two' in a given list\n",
    "\n",
    "print(lst)"
   ]
  },
  {
   "attachments": {},
   "cell_type": "markdown",
   "metadata": {},
   "source": [
    "# List Append & Extend "
   ]
  },
  {
   "cell_type": "code",
   "execution_count": 10,
   "metadata": {},
   "outputs": [
    {
     "name": "stdout",
     "output_type": "stream",
     "text": [
      "['one ', 'two ', 'three ', 'four', ['five', 'six']]\n"
     ]
    }
   ],
   "source": [
    "lst = ['one ', 'two ', 'three ','four']\n",
    "\n",
    "lst2 =['five','six' ]\n",
    "#append \n",
    "lst.append(lst2)\n",
    "print(lst)"
   ]
  },
  {
   "cell_type": "code",
   "execution_count": 11,
   "metadata": {},
   "outputs": [
    {
     "name": "stdout",
     "output_type": "stream",
     "text": [
      "['one ', 'two ', 'three ', 'four', 'five', 'six']\n"
     ]
    }
   ],
   "source": [
    "lst = ['one ', 'two ', 'three ','four']\n",
    "\n",
    "lst2 =['five','six' ]\n",
    "#extend\n",
    "lst.extend(lst2)\n",
    "print(lst)"
   ]
  },
  {
   "attachments": {},
   "cell_type": "markdown",
   "metadata": {},
   "source": [
    "# List Delete"
   ]
  },
  {
   "cell_type": "code",
   "execution_count": 13,
   "metadata": {},
   "outputs": [
    {
     "name": "stdout",
     "output_type": "stream",
     "text": [
      "['one', 'three ', 'four', 'five']\n",
      "three \n",
      "['one', 'four', 'five']\n"
     ]
    }
   ],
   "source": [
    "#del to remove item based on index position \n",
    "lst =['one','two','three ','four','five']\n",
    "del lst[1]\n",
    "print(lst)\n",
    "\n",
    "#or we can pop() method \n",
    "a = lst.pop(1)\n",
    "print(a)\n",
    "print(lst)"
   ]
  },
  {
   "attachments": {},
   "cell_type": "markdown",
   "metadata": {},
   "source": [
    "# List related keywords in python "
   ]
  },
  {
   "cell_type": "code",
   "execution_count": 16,
   "metadata": {},
   "outputs": [
    {
     "name": "stdout",
     "output_type": "stream",
     "text": [
      "AI\n",
      "ML\n"
     ]
    }
   ],
   "source": [
    "# keyword in is used to test if an item is in a list \n",
    "lst =['one','two','three','four']\n",
    "if 'two' in lst :\n",
    "    print(\"AI\")\n",
    "\n",
    "#keyword 'not' can combined with 'in' \n",
    "if 'six' not in lst:\n",
    "    print('ML')   "
   ]
  },
  {
   "attachments": {},
   "cell_type": "markdown",
   "metadata": {},
   "source": [
    "# List Reverse "
   ]
  },
  {
   "cell_type": "code",
   "execution_count": 17,
   "metadata": {},
   "outputs": [
    {
     "name": "stdout",
     "output_type": "stream",
     "text": [
      "['four', 'three ', 'two', 'one']\n"
     ]
    }
   ],
   "source": [
    "#reverse is reverses the entire list \n",
    "lst =['one','two','three ','four' ]\n",
    "lst.reverse()\n",
    "print(lst)"
   ]
  },
  {
   "attachments": {},
   "cell_type": "markdown",
   "metadata": {},
   "source": [
    "# List sorting \n",
    "* list only sorted with same datatype \n",
    "* the easiest way to sort a list is with the sorted(list) function. \n",
    "* that take  a list and returns a new list with those element in sorted order.\n",
    "* The orignal list  is not changed.\n",
    "* thee sorted() optional argument reverse=true , e.g sorted(list, reverse =true ), makes it sort backwards."
   ]
  },
  {
   "cell_type": "code",
   "execution_count": 19,
   "metadata": {},
   "outputs": [
    {
     "name": "stdout",
     "output_type": "stream",
     "text": [
      "[3, 1, 6, 2, 8]\n",
      "[1, 2, 3, 6, 8]\n"
     ]
    }
   ],
   "source": [
    "# create a list with numbers \n",
    "number = [3 , 1, 6, 2, 8]\n",
    "print(number)\n",
    "number.sort()\n",
    "print(number)"
   ]
  },
  {
   "cell_type": "code",
   "execution_count": 21,
   "metadata": {},
   "outputs": [
    {
     "name": "stdout",
     "output_type": "stream",
     "text": [
      "sorted list : [8, 6, 3, 2, 1]\n",
      "sorted list : [1, 2, 3, 6, 8]\n"
     ]
    }
   ],
   "source": [
    "print(\"sorted list :\" ,sorted(number, reverse=True) )\n",
    "print(\"sorted list :\" ,sorted(number, reverse=False) )"
   ]
  },
  {
   "cell_type": "code",
   "execution_count": 22,
   "metadata": {},
   "outputs": [
    {
     "ename": "TypeError",
     "evalue": "'<' not supported between instances of 'str' and 'int'",
     "output_type": "error",
     "traceback": [
      "\u001b[1;31m---------------------------------------------------------------------------\u001b[0m",
      "\u001b[1;31mTypeError\u001b[0m                                 Traceback (most recent call last)",
      "Cell \u001b[1;32mIn[22], line 2\u001b[0m\n\u001b[0;32m      1\u001b[0m num \u001b[39m=\u001b[39m[\u001b[39m1\u001b[39m ,\u001b[39m'\u001b[39m\u001b[39ma\u001b[39m\u001b[39m'\u001b[39m \u001b[39m'\u001b[39m\u001b[39mb\u001b[39m\u001b[39m'\u001b[39m , \u001b[39m'\u001b[39m\u001b[39mm\u001b[39m\u001b[39m'\u001b[39m, \u001b[39m5\u001b[39m ,\u001b[39m8\u001b[39m ]\n\u001b[1;32m----> 2\u001b[0m num\u001b[39m.\u001b[39;49msort()\n\u001b[0;32m      3\u001b[0m \u001b[39mprint\u001b[39m(num)\n",
      "\u001b[1;31mTypeError\u001b[0m: '<' not supported between instances of 'str' and 'int'"
     ]
    }
   ],
   "source": [
    "# list only sorted with same data type that is not correct\n",
    "num =[1 ,'a' 'b' , 'm', 5 ,8 ]\n",
    "num.sort()\n",
    "print(num)"
   ]
  }
 ],
 "metadata": {
  "kernelspec": {
   "display_name": "ml_env",
   "language": "python",
   "name": "python3"
  },
  "language_info": {
   "codemirror_mode": {
    "name": "ipython",
    "version": 3
   },
   "file_extension": ".py",
   "mimetype": "text/x-python",
   "name": "python",
   "nbconvert_exporter": "python",
   "pygments_lexer": "ipython3",
   "version": "3.11.3"
  },
  "orig_nbformat": 4
 },
 "nbformat": 4,
 "nbformat_minor": 2
}
